{
 "cells": [
  {
   "cell_type": "code",
   "execution_count": 1,
   "metadata": {},
   "outputs": [],
   "source": [
    "# csv uznatılı dosyayı okuyabilmek için\n",
    "import pandas as pd\n",
    "# matris işlemleri için\n",
    "import numpy as np\n",
    "# opencv \n",
    "import cv2\n",
    "# grafik kütüphanesi \n",
    "import matplotlib.pylab as plt\n",
    "# matplotlib grafiklerini jupyter note book üzerinde göstermek için\n",
    "%matplotlib inline\n",
    "# rasgele sayı üretimi için\n",
    "import random"
   ]
  },
  {
   "cell_type": "code",
   "execution_count": 2,
   "metadata": {},
   "outputs": [],
   "source": [
    "# Eğitim için kaydettiğimiz seyir.csv dosaysını okuyoruz\n",
    "df = pd.read_csv('/home/nvidia/Downloads/GTSRB_Final_Training_Images/GTSRB/Final_Training/Images/regularly/data.csv')"
   ]
  },
  {
   "cell_type": "code",
   "execution_count": 3,
   "metadata": {},
   "outputs": [
    {
     "data": {
      "text/plain": [
       "Index(['FileName', 'ClassId'], dtype='object')"
      ]
     },
     "execution_count": 3,
     "metadata": {},
     "output_type": "execute_result"
    }
   ],
   "source": [
    "# Seyir dosaysındaki sutun başlıkları\n",
    "df.columns"
   ]
  },
  {
   "cell_type": "code",
   "execution_count": 4,
   "metadata": {},
   "outputs": [
    {
     "data": {
      "text/html": [
       "<div>\n",
       "<style scoped>\n",
       "    .dataframe tbody tr th:only-of-type {\n",
       "        vertical-align: middle;\n",
       "    }\n",
       "\n",
       "    .dataframe tbody tr th {\n",
       "        vertical-align: top;\n",
       "    }\n",
       "\n",
       "    .dataframe thead th {\n",
       "        text-align: right;\n",
       "    }\n",
       "</style>\n",
       "<table border=\"1\" class=\"dataframe\">\n",
       "  <thead>\n",
       "    <tr style=\"text-align: right;\">\n",
       "      <th></th>\n",
       "      <th>FileName</th>\n",
       "      <th>ClassId</th>\n",
       "    </tr>\n",
       "  </thead>\n",
       "  <tbody>\n",
       "    <tr>\n",
       "      <th>20</th>\n",
       "      <td>/home/nvidia/Downloads/GTSRB_Final_Training_Im...</td>\n",
       "      <td>0</td>\n",
       "    </tr>\n",
       "    <tr>\n",
       "      <th>21</th>\n",
       "      <td>/home/nvidia/Downloads/GTSRB_Final_Training_Im...</td>\n",
       "      <td>0</td>\n",
       "    </tr>\n",
       "    <tr>\n",
       "      <th>22</th>\n",
       "      <td>/home/nvidia/Downloads/GTSRB_Final_Training_Im...</td>\n",
       "      <td>0</td>\n",
       "    </tr>\n",
       "    <tr>\n",
       "      <th>23</th>\n",
       "      <td>/home/nvidia/Downloads/GTSRB_Final_Training_Im...</td>\n",
       "      <td>0</td>\n",
       "    </tr>\n",
       "    <tr>\n",
       "      <th>24</th>\n",
       "      <td>/home/nvidia/Downloads/GTSRB_Final_Training_Im...</td>\n",
       "      <td>0</td>\n",
       "    </tr>\n",
       "    <tr>\n",
       "      <th>25</th>\n",
       "      <td>/home/nvidia/Downloads/GTSRB_Final_Training_Im...</td>\n",
       "      <td>0</td>\n",
       "    </tr>\n",
       "    <tr>\n",
       "      <th>26</th>\n",
       "      <td>/home/nvidia/Downloads/GTSRB_Final_Training_Im...</td>\n",
       "      <td>0</td>\n",
       "    </tr>\n",
       "    <tr>\n",
       "      <th>27</th>\n",
       "      <td>/home/nvidia/Downloads/GTSRB_Final_Training_Im...</td>\n",
       "      <td>0</td>\n",
       "    </tr>\n",
       "    <tr>\n",
       "      <th>28</th>\n",
       "      <td>/home/nvidia/Downloads/GTSRB_Final_Training_Im...</td>\n",
       "      <td>0</td>\n",
       "    </tr>\n",
       "    <tr>\n",
       "      <th>29</th>\n",
       "      <td>/home/nvidia/Downloads/GTSRB_Final_Training_Im...</td>\n",
       "      <td>0</td>\n",
       "    </tr>\n",
       "  </tbody>\n",
       "</table>\n",
       "</div>"
      ],
      "text/plain": [
       "                                             FileName  ClassId\n",
       "20  /home/nvidia/Downloads/GTSRB_Final_Training_Im...        0\n",
       "21  /home/nvidia/Downloads/GTSRB_Final_Training_Im...        0\n",
       "22  /home/nvidia/Downloads/GTSRB_Final_Training_Im...        0\n",
       "23  /home/nvidia/Downloads/GTSRB_Final_Training_Im...        0\n",
       "24  /home/nvidia/Downloads/GTSRB_Final_Training_Im...        0\n",
       "25  /home/nvidia/Downloads/GTSRB_Final_Training_Im...        0\n",
       "26  /home/nvidia/Downloads/GTSRB_Final_Training_Im...        0\n",
       "27  /home/nvidia/Downloads/GTSRB_Final_Training_Im...        0\n",
       "28  /home/nvidia/Downloads/GTSRB_Final_Training_Im...        0\n",
       "29  /home/nvidia/Downloads/GTSRB_Final_Training_Im...        0"
      ]
     },
     "execution_count": 4,
     "metadata": {},
     "output_type": "execute_result"
    }
   ],
   "source": [
    "# 20 den 40 kadar kayıtlar\n",
    "df[20:30]"
   ]
  },
  {
   "cell_type": "code",
   "execution_count": 5,
   "metadata": {},
   "outputs": [
    {
     "data": {
      "text/plain": [
       "39209"
      ]
     },
     "execution_count": 5,
     "metadata": {},
     "output_type": "execute_result"
    }
   ],
   "source": [
    "# Toplam kayıt sayımız\n",
    "len(df)"
   ]
  },
  {
   "cell_type": "code",
   "execution_count": 6,
   "metadata": {},
   "outputs": [
    {
     "data": {
      "text/plain": [
       "count    39209.000000\n",
       "mean        15.788390\n",
       "std         12.013238\n",
       "min          0.000000\n",
       "25%          5.000000\n",
       "50%         12.000000\n",
       "75%         25.000000\n",
       "max         42.000000\n",
       "Name: ClassId, dtype: float64"
      ]
     },
     "execution_count": 6,
     "metadata": {},
     "output_type": "execute_result"
    }
   ],
   "source": [
    "# Açı sutunu hakkında istatistiki bilgiler min max mean vs ...\n",
    "df.ClassId.describe()"
   ]
  },
  {
   "cell_type": "code",
   "execution_count": null,
   "metadata": {},
   "outputs": [],
   "source": []
  },
  {
   "cell_type": "code",
   "execution_count": null,
   "metadata": {},
   "outputs": [],
   "source": []
  },
  {
   "cell_type": "code",
   "execution_count": 7,
   "metadata": {},
   "outputs": [],
   "source": [
    "# Ağımızı eğitmek için  giriş verimiz resimler  çıkışımız da Açılar olacak\n",
    "# bunları birer listeye aktarıyoruz\n",
    "# Kamera ilk çekmeye başladığında düzgün çekemediği için başlangıçdan 30 kayıdı almıyoruz.\n",
    "images = list(df.FileName[:])\n",
    "labels = list(df.ClassId[:])"
   ]
  },
  {
   "cell_type": "code",
   "execution_count": 8,
   "metadata": {},
   "outputs": [],
   "source": [
    "#labels"
   ]
  },
  {
   "cell_type": "code",
   "execution_count": 9,
   "metadata": {},
   "outputs": [],
   "source": [
    "#labels[0]"
   ]
  },
  {
   "cell_type": "code",
   "execution_count": 10,
   "metadata": {},
   "outputs": [
    {
     "data": {
      "text/plain": [
       "int"
      ]
     },
     "execution_count": 10,
     "metadata": {},
     "output_type": "execute_result"
    }
   ],
   "source": [
    "type(labels[0])"
   ]
  },
  {
   "cell_type": "code",
   "execution_count": null,
   "metadata": {},
   "outputs": [],
   "source": []
  },
  {
   "cell_type": "code",
   "execution_count": 11,
   "metadata": {},
   "outputs": [],
   "source": [
    "# Veri setimiz ile ilgili ayarlamalar\n",
    "# Veri seti küme büyüklüğü batch size\n",
    "# Verisetinin ne kadarı eğitim ne kadarı test için kullanılacak\n",
    "# Eğitim %80 , Test %20 \n",
    "bsize = 32\n",
    "dlen = len(labels)\n",
    "splitpoint = int(0.8*dlen)\n",
    "reindex = list(range(len(labels)))\n",
    "# Eğtim verisini karıştıryoruz\n",
    "random.seed(1234)\n",
    "random.shuffle(reindex)"
   ]
  },
  {
   "cell_type": "code",
   "execution_count": 12,
   "metadata": {},
   "outputs": [
    {
     "data": {
      "text/plain": [
       "[27858, 16913, 27873, 29400, 27250, 4271, 26157, 5002, 37368, 10527]"
      ]
     },
     "execution_count": 12,
     "metadata": {},
     "output_type": "execute_result"
    }
   ],
   "source": [
    "reindex[0:10]"
   ]
  },
  {
   "cell_type": "code",
   "execution_count": 13,
   "metadata": {},
   "outputs": [],
   "source": [
    "# ismi verilen resmi okuyup \n",
    "# rastgele olarak %50 sine parlaklık değişimi uygulayan fonksiyonu uygulayıp\n",
    "# resim matrisini dönem bir fonksiyon\n",
    "\n",
    "def get_matrix(fname):\n",
    "    img = cv2.imread(fname)      \n",
    "    return img"
   ]
  },
  {
   "cell_type": "code",
   "execution_count": 14,
   "metadata": {},
   "outputs": [],
   "source": [
    "# Bütün veriyi hafızaya almamız mümkün değil\n",
    "# Ek olarak bazen çeşitli değişimler - Augmentation - uygulamakda istiyebiliriz\n",
    "# python generator ile gerektiğinde veri okunur düzenlenir ve eğitim veya test için \n",
    "# sisteme verilir\n",
    "# alttaki fonksiyonlar bu işi yapar\n",
    "\n",
    "# Generate data for training\n",
    "def generate_data():\n",
    "    i = 0\n",
    "    while True:\n",
    "        x = np.array([])\n",
    "        y = []\n",
    "        for j in range(i,i+bsize):  \n",
    "            \n",
    "            ix = reindex[j]\n",
    "            img = get_matrix(images[ix])\n",
    "            tempLbl = np.array(labels[ix])\n",
    "            \n",
    "            lbl = np.eye(43, dtype='uint8')[tempLbl]\n",
    "            x = np.append(x,img)\n",
    "            y.append(lbl)\n",
    "            \n",
    "        \n",
    "        x = np.reshape(x,(-1,48,48,3))\n",
    "        y = np.array(y)\n",
    "       \n",
    "        yield (x,y)    \n",
    "        i +=bsize\n",
    "        if i+bsize > splitpoint:\n",
    "            i = 0\n",
    "            \n",
    "# Generate data for validation                  \n",
    "def generate_data_val():\n",
    "    i = splitpoint\n",
    "    while True:\n",
    "        x = np.array([])\n",
    "        y = []\n",
    "        for j in range(i,i+bsize): \n",
    "            \n",
    "            ix = reindex[j]\n",
    "            img = get_matrix(images[ix])\n",
    "            tempLbl = np.array(labels[ix])\n",
    "            \n",
    "            lbl = np.eye(43, dtype='uint8')[tempLbl]\n",
    "            x = np.append(x,img)\n",
    "            y.append(lbl)\n",
    "            \n",
    "        x = np.reshape(x,(-1,48,48,3))\n",
    "        y = np.array(y)\n",
    "        \n",
    "        yield (x,y)    \n",
    "        i +=bsize\n",
    "        if i+bsize > dlen:\n",
    "            i = splitpoint"
   ]
  },
  {
   "cell_type": "code",
   "execution_count": 15,
   "metadata": {},
   "outputs": [
    {
     "name": "stderr",
     "output_type": "stream",
     "text": [
      "/usr/local/lib/python3.5/dist-packages/h5py/__init__.py:36: FutureWarning: Conversion of the second argument of issubdtype from `float` to `np.floating` is deprecated. In future, it will be treated as `np.float64 == np.dtype(float).type`.\n",
      "  from ._conv import register_converters as _register_converters\n",
      "Using TensorFlow backend.\n"
     ]
    }
   ],
   "source": [
    "# Keras için gerekenler\n",
    "from keras.models import Sequential\n",
    "from keras.layers import Dense, Dropout, Flatten, Lambda\n",
    "from keras.layers import Conv2D, MaxPooling2D, Cropping2D\n",
    "from keras.callbacks import ModelCheckpoint\n",
    "from keras.optimizers import SGD\n",
    "from keras import losses"
   ]
  },
  {
   "cell_type": "code",
   "execution_count": 16,
   "metadata": {},
   "outputs": [],
   "source": [
    "# Model based on NVIDIA's End to End Learning for Self-Driving Cars model\n",
    "# Sıralı bir keras modeli tanılıyoruz\n",
    "model = Sequential()\n",
    "# Cropping\n",
    "# gelen resmin istediğimiz ksımını kırpmak için bu katmanı yazıyoruz\n",
    "# Cropping2D(cropping((top_crop, bottom_crop), (left_crop, right_crop)))\n",
    "# aşağıdaki satırda \n",
    "# üstten 144 alttan 76 piksel \n",
    "# soldan 0 sağdan 672 piksel kırpılıyor\n",
    "\n",
    "#model.add(Cropping2D(cropping=((144,76),(0,672)), input_shape=(376,1344,3)))\n",
    "\n",
    "# Normalization\n",
    "# 0 - 255 arası değerler -1 ila 1 arasına çekiliyor\n",
    "#model.add(Lambda(lambda x: (2*x / 255.0) - 1.0) , input_shape=(48,48,3))\n",
    "# Evrişim katmanı (5, 5) lik 24 tane 2 şer piksel kayarak\n",
    "model.add(Conv2D(32, (3, 3), padding='same',input_shape=(48,48,3),activation='relu'))\n",
    "model.add(Conv2D(32, (3, 3), activation='relu'))\n",
    "model.add(MaxPooling2D(pool_size=(2, 2)))\n",
    "model.add(Dropout(0.2))\n",
    "\n",
    "model.add(Conv2D(64, (3, 3), padding='same',activation='relu'))\n",
    "model.add(Conv2D(64, (3, 3), activation='relu'))\n",
    "model.add(MaxPooling2D(pool_size=(2, 2)))\n",
    "model.add(Dropout(0.2))\n",
    "model.add(Conv2D(128, (3, 3), padding='same',activation='relu'))\n",
    "model.add(Conv2D(128, (3, 3), activation='relu'))\n",
    "model.add(MaxPooling2D(pool_size=(2, 2)))\n",
    "model.add(Dropout(0.2))\n",
    "\n",
    "model.add(Flatten())\n",
    "model.add(Dense(512, activation='relu'))\n",
    "model.add(Dropout(0.5))\n",
    "model.add(Dense(43, activation='softmax'))\n",
    "model.compile(loss='categorical_crossentropy', optimizer='sgd')        \n",
    "#model.add(Conv2D(24, (5, 5), input_shape=(48,48,3), activation=\"relu\", strides=(2, 2)))\n",
    "#model.add(Conv2D(36, (5, 5), activation=\"relu\", strides=(2, 2)))\n",
    "#model.add(Conv2D(48, (5, 5), activation=\"relu\", strides=(2, 2)))\n",
    "# Ağın çıkışı burda vectöre çevriliyor\n",
    "#model.add(Flatten())\n",
    "\n",
    "# Yapay Sinir ağı kısmı\n",
    "#model.add(Dense(100))\n",
    "#model.add(Dense(25))\n",
    "#model.add(Dense(10))\n",
    "# Ağın çıkışı 42 levha var\n",
    "#model.add(Dense(1))\n",
    "\n"
   ]
  },
  {
   "cell_type": "code",
   "execution_count": 17,
   "metadata": {},
   "outputs": [
    {
     "name": "stdout",
     "output_type": "stream",
     "text": [
      "_________________________________________________________________\n",
      "Layer (type)                 Output Shape              Param #   \n",
      "=================================================================\n",
      "conv2d_1 (Conv2D)            (None, 48, 48, 32)        896       \n",
      "_________________________________________________________________\n",
      "conv2d_2 (Conv2D)            (None, 46, 46, 32)        9248      \n",
      "_________________________________________________________________\n",
      "max_pooling2d_1 (MaxPooling2 (None, 23, 23, 32)        0         \n",
      "_________________________________________________________________\n",
      "dropout_1 (Dropout)          (None, 23, 23, 32)        0         \n",
      "_________________________________________________________________\n",
      "conv2d_3 (Conv2D)            (None, 23, 23, 64)        18496     \n",
      "_________________________________________________________________\n",
      "conv2d_4 (Conv2D)            (None, 21, 21, 64)        36928     \n",
      "_________________________________________________________________\n",
      "max_pooling2d_2 (MaxPooling2 (None, 10, 10, 64)        0         \n",
      "_________________________________________________________________\n",
      "dropout_2 (Dropout)          (None, 10, 10, 64)        0         \n",
      "_________________________________________________________________\n",
      "conv2d_5 (Conv2D)            (None, 10, 10, 128)       73856     \n",
      "_________________________________________________________________\n",
      "conv2d_6 (Conv2D)            (None, 8, 8, 128)         147584    \n",
      "_________________________________________________________________\n",
      "max_pooling2d_3 (MaxPooling2 (None, 4, 4, 128)         0         \n",
      "_________________________________________________________________\n",
      "dropout_3 (Dropout)          (None, 4, 4, 128)         0         \n",
      "_________________________________________________________________\n",
      "flatten_1 (Flatten)          (None, 2048)              0         \n",
      "_________________________________________________________________\n",
      "dense_1 (Dense)              (None, 512)               1049088   \n",
      "_________________________________________________________________\n",
      "dropout_4 (Dropout)          (None, 512)               0         \n",
      "_________________________________________________________________\n",
      "dense_2 (Dense)              (None, 43)                22059     \n",
      "=================================================================\n",
      "Total params: 1,358,155\n",
      "Trainable params: 1,358,155\n",
      "Non-trainable params: 0\n",
      "_________________________________________________________________\n"
     ]
    }
   ],
   "source": [
    "# Tanımladığımız ağın yapsı\n",
    "model.summary()"
   ]
  },
  {
   "cell_type": "code",
   "execution_count": null,
   "metadata": {},
   "outputs": [],
   "source": []
  },
  {
   "cell_type": "code",
   "execution_count": 18,
   "metadata": {},
   "outputs": [],
   "source": [
    "# Eğitim esnasında test hata değeri en düşük değeri kaydeden bir fonksiyon\n",
    "model_checkpoint = ModelCheckpoint('weights.h5', monitor='val_loss', save_best_only=True)"
   ]
  },
  {
   "cell_type": "code",
   "execution_count": 19,
   "metadata": {},
   "outputs": [
    {
     "name": "stdout",
     "output_type": "stream",
     "text": [
      "Epoch 1/5\n",
      "980/980 [==============================] - 310s 317ms/step - loss: 3.6197 - val_loss: 3.4246\n",
      "Epoch 2/5\n",
      "980/980 [==============================] - 307s 314ms/step - loss: 2.1799 - val_loss: 0.7206\n",
      "Epoch 3/5\n",
      "980/980 [==============================] - 312s 319ms/step - loss: 0.7713 - val_loss: 0.2859\n",
      "Epoch 4/5\n",
      "980/980 [==============================] - 314s 320ms/step - loss: 0.4100 - val_loss: 0.1968\n",
      "Epoch 5/5\n",
      "980/980 [==============================] - 310s 316ms/step - loss: 0.2785 - val_loss: 0.1135\n"
     ]
    }
   ],
   "source": [
    "# Eğitim fonksiyonu \n",
    "hs = model.fit_generator(generate_data(),steps_per_epoch=int(splitpoint/ bsize),\n",
    "                    validation_data=generate_data_val(), \n",
    "                    validation_steps=(dlen-splitpoint)/bsize, epochs=5,callbacks=[model_checkpoint])"
   ]
  },
  {
   "cell_type": "code",
   "execution_count": 20,
   "metadata": {},
   "outputs": [
    {
     "name": "stdout",
     "output_type": "stream",
     "text": [
      "dict_keys(['val_loss', 'loss'])\n"
     ]
    },
    {
     "data": {
      "image/png": "[encoded data removed]",
      "text/plain": [
       "<matplotlib.figure.Figure at 0x7fe75de02cf8>"
      ]
     },
     "metadata": {},
     "output_type": "display_data"
    }
   ],
   "source": [
    "# Eğitim işleminin gidişatını grafik olarak görüyoruz\n",
    "# Train and validation loss chart\n",
    "print(hs.history.keys())\n",
    "\n",
    "plt.plot(hs.history['loss'])\n",
    "plt.plot(hs.history['val_loss'])\n",
    "plt.title('model mean squared error loss')\n",
    "plt.ylabel('mean squared error loss')\n",
    "plt.xlabel('epoch')\n",
    "plt.legend(['training set', 'validation set'], loc='upper right')\n",
    "plt.show()"
   ]
  },
  {
   "cell_type": "code",
   "execution_count": 21,
   "metadata": {},
   "outputs": [],
   "source": [
    "# Eğittiğimiz modeli kaydediyoruz\n",
    "# Ağ yapsını json olarak\n",
    "# Ağ parametre değerlerini h5 uzantılı olarak\n",
    "import json \n",
    "# Save model weights and json.\n",
    "mname = 'model_new'\n",
    "model.save_weights(mname+'.h5')\n",
    "model_json  = model.to_json()\n",
    "with open(mname+'.json', 'w') as outfile:\n",
    "    json.dump(model_json, outfile)"
   ]
  },
  {
   "cell_type": "code",
   "execution_count": 22,
   "metadata": {},
   "outputs": [],
   "source": [
    "# rastgele 10 resim seçip modelimiz hesapladığı sonuçla gerçeğine bakıyoruz \n",
    "# Eğer sonuçlar iyi ise kullanabiliriz\n",
    "# Sonuççlar kötüyse eğitim aşamasına dönmemiz lazım\n",
    "# Compare actual and predicted steering\n",
    "#for i in range(10):\n",
    "    #ix = random.randint(0,len(df)-1)\n",
    "    #out = model.predict(get_matrix(df.image_name[ix]).reshape(1,376,1344,3))\n",
    "    #print(df.angle[ix], ' - > ', out[0][0])"
   ]
  },
  {
   "cell_type": "code",
   "execution_count": null,
   "metadata": {},
   "outputs": [],
   "source": []
  },
  {
   "cell_type": "code",
   "execution_count": null,
   "metadata": {},
   "outputs": [],
   "source": []
  }
 ],
 "metadata": {
  "kernelspec": {
   "display_name": "Python 2",
   "language": "python",
   "name": "python2"
  },
  "language_info": {
   "codemirror_mode": {
    "name": "ipython",
    "version": 3
   },
   "file_extension": ".py",
   "mimetype": "text/x-python",
   "name": "python",
   "nbconvert_exporter": "python",
   "pygments_lexer": "ipython3",
   "version": "3.5.2"
  }
 },
 "nbformat": 4,
 "nbformat_minor": 2
}
